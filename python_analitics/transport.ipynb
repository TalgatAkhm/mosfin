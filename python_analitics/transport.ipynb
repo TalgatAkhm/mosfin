{
 "cells": [
  {
   "cell_type": "code",
   "execution_count": 1,
   "metadata": {},
   "outputs": [
    {
     "name": "stdout",
     "output_type": "stream",
     "text": [
      "64-bit\n"
     ]
    }
   ],
   "source": [
    "import sys\n",
    "if sys.maxsize > 2**32:\n",
    "    print('64-bit')\n",
    "else:\n",
    "    print('32-bit')\n"
   ]
  },
  {
   "cell_type": "code",
   "execution_count": null,
   "metadata": {},
   "outputs": [],
   "source": [
    "# -*- coding: utf-8 -*-\n",
    "import numpy as np\n",
    "import pandas as pd\n",
    "# import matplotlib.pyplot as plt\n",
    "# import json\n",
    "# import csv\n",
    "df_tpu = pd.read_json(\"TPU.json\")"
   ]
  },
  {
   "cell_type": "code",
   "execution_count": null,
   "metadata": {},
   "outputs": [],
   "source": [
    "# import json\n",
    "# import csv\n",
    "# df_tpu = pd.read_json('TPU.json', typ='frame')"
   ]
  },
  {
   "cell_type": "markdown",
   "metadata": {},
   "source": [
    "# Транспортные потоки"
   ]
  },
  {
   "cell_type": "markdown",
   "metadata": {},
   "source": [
    "# 1.1 Транспортно-пересадочные узлы"
   ]
  },
  {
   "cell_type": "code",
   "execution_count": 3,
   "metadata": {},
   "outputs": [
    {
     "data": {
      "text/plain": [
       "0      {'global_id': 1769845, 'ID': 96, 'TPUName': 'Т...\n",
       "1      {'global_id': 1769846, 'ID': 97, 'TPUName': 'Т...\n",
       "2      {'global_id': 1769847, 'ID': 98, 'TPUName': 'Т...\n",
       "3      {'global_id': 1769848, 'ID': 99, 'TPUName': 'Т...\n",
       "4      {'global_id': 1769849, 'ID': 100, 'TPUName': '...\n",
       "5      {'global_id': 1769850, 'ID': 101, 'TPUName': '...\n",
       "6      {'global_id': 1769851, 'ID': 102, 'TPUName': '...\n",
       "7      {'global_id': 1769852, 'ID': 103, 'TPUName': '...\n",
       "8      {'global_id': 1769853, 'ID': 104, 'TPUName': '...\n",
       "9      {'global_id': 1769854, 'ID': 105, 'TPUName': '...\n",
       "10     {'global_id': 1769855, 'ID': 106, 'TPUName': '...\n",
       "11     {'global_id': 1769856, 'ID': 107, 'TPUName': '...\n",
       "12     {'global_id': 1769857, 'ID': 108, 'TPUName': '...\n",
       "13     {'global_id': 1769858, 'ID': 109, 'TPUName': '...\n",
       "14     {'global_id': 1769859, 'ID': 110, 'TPUName': '...\n",
       "15     {'global_id': 1769860, 'ID': 111, 'TPUName': '...\n",
       "16     {'global_id': 1769861, 'ID': 112, 'TPUName': '...\n",
       "17     {'global_id': 1769862, 'ID': 113, 'TPUName': '...\n",
       "18     {'global_id': 1769863, 'ID': 114, 'TPUName': '...\n",
       "19     {'global_id': 1769864, 'ID': 115, 'TPUName': '...\n",
       "20     {'global_id': 1769865, 'ID': 116, 'TPUName': '...\n",
       "21     {'global_id': 1769866, 'ID': 117, 'TPUName': '...\n",
       "22     {'global_id': 1769867, 'ID': 118, 'TPUName': '...\n",
       "23     {'global_id': 1769868, 'ID': 119, 'TPUName': '...\n",
       "24     {'global_id': 1769869, 'ID': 120, 'TPUName': '...\n",
       "25     {'global_id': 1769870, 'ID': 121, 'TPUName': '...\n",
       "26     {'global_id': 1769871, 'ID': 67, 'TPUName': 'Т...\n",
       "27     {'global_id': 1769872, 'ID': 68, 'TPUName': 'Т...\n",
       "28     {'global_id': 1769873, 'ID': 69, 'TPUName': 'Т...\n",
       "29     {'global_id': 1769874, 'ID': 70, 'TPUName': 'Т...\n",
       "                             ...                        \n",
       "249    {'global_id': 170430004, 'ID': 307, 'TPUName':...\n",
       "250    {'global_id': 170430005, 'ID': 308, 'TPUName':...\n",
       "251    {'global_id': 170430006, 'ID': 309, 'TPUName':...\n",
       "252    {'global_id': 170430007, 'ID': 310, 'TPUName':...\n",
       "253    {'global_id': 170430008, 'ID': 311, 'TPUName':...\n",
       "254    {'global_id': 170430011, 'ID': 314, 'TPUName':...\n",
       "255    {'global_id': 170430013, 'ID': 316, 'TPUName':...\n",
       "256    {'global_id': 170430014, 'ID': 317, 'TPUName':...\n",
       "257    {'global_id': 170430015, 'ID': 318, 'TPUName':...\n",
       "258    {'global_id': 170430018, 'ID': 321, 'TPUName':...\n",
       "259    {'global_id': 170430020, 'ID': 323, 'TPUName':...\n",
       "260    {'global_id': 170430021, 'ID': 324, 'TPUName':...\n",
       "261    {'global_id': 170430022, 'ID': 325, 'TPUName':...\n",
       "262    {'global_id': 170430023, 'ID': 326, 'TPUName':...\n",
       "263    {'global_id': 170430027, 'ID': 330, 'TPUName':...\n",
       "264    {'global_id': 170430028, 'ID': 331, 'TPUName':...\n",
       "265    {'global_id': 170430030, 'ID': 333, 'TPUName':...\n",
       "266    {'global_id': 170430031, 'ID': 334, 'TPUName':...\n",
       "267    {'global_id': 170430032, 'ID': 335, 'TPUName':...\n",
       "268    {'global_id': 170430034, 'ID': 337, 'TPUName':...\n",
       "269    {'global_id': 170430035, 'ID': 338, 'TPUName':...\n",
       "270    {'global_id': 170430036, 'ID': 339, 'TPUName':...\n",
       "271    {'global_id': 170430037, 'ID': 340, 'TPUName':...\n",
       "272    {'global_id': 170430038, 'ID': 341, 'TPUName':...\n",
       "273    {'global_id': 170430039, 'ID': 342, 'TPUName':...\n",
       "274    {'global_id': 170430040, 'ID': 343, 'TPUName':...\n",
       "275    {'global_id': 170430041, 'ID': 344, 'TPUName':...\n",
       "276    {'global_id': 170430042, 'ID': 345, 'TPUName':...\n",
       "277    {'global_id': 170430045, 'ID': 348, 'TPUName':...\n",
       "278    {'global_id': 860862615, 'ID': 349, 'TPUName':...\n",
       "Length: 279, dtype: object"
      ]
     },
     "execution_count": 3,
     "metadata": {},
     "output_type": "execute_result"
    }
   ],
   "source": [
    "df_tpu"
   ]
  },
  {
   "cell_type": "code",
   "execution_count": null,
   "metadata": {},
   "outputs": [],
   "source": [
    "# df_tpu.head()"
   ]
  },
  {
   "cell_type": "code",
   "execution_count": null,
   "metadata": {},
   "outputs": [],
   "source": [
    "df_tpu['District'].value_counts()"
   ]
  },
  {
   "cell_type": "code",
   "execution_count": 4,
   "metadata": {},
   "outputs": [
    {
     "ename": "KeyError",
     "evalue": "'Status'",
     "output_type": "error",
     "traceback": [
      "\u001b[0;31m---------------------------------------------------------------------------\u001b[0m",
      "\u001b[0;31mTypeError\u001b[0m                                 Traceback (most recent call last)",
      "\u001b[0;32mpandas/_libs/index.pyx\u001b[0m in \u001b[0;36mpandas._libs.index.IndexEngine.get_loc\u001b[0;34m()\u001b[0m\n",
      "\u001b[0;32mpandas/_libs/hashtable_class_helper.pxi\u001b[0m in \u001b[0;36mpandas._libs.hashtable.Int64HashTable.get_item\u001b[0;34m()\u001b[0m\n",
      "\u001b[0;31mTypeError\u001b[0m: an integer is required",
      "\nDuring handling of the above exception, another exception occurred:\n",
      "\u001b[0;31mKeyError\u001b[0m                                  Traceback (most recent call last)",
      "\u001b[0;32m<ipython-input-4-c7aee7540e4f>\u001b[0m in \u001b[0;36m<module>\u001b[0;34m()\u001b[0m\n\u001b[0;32m----> 1\u001b[0;31m \u001b[0mdf_tpu\u001b[0m \u001b[0;34m=\u001b[0m \u001b[0mdf_tpu\u001b[0m\u001b[0;34m[\u001b[0m\u001b[0mdf_tpu\u001b[0m\u001b[0;34m[\u001b[0m\u001b[0;34m'Status'\u001b[0m\u001b[0;34m]\u001b[0m \u001b[0;34m==\u001b[0m \u001b[0;34m'построен'\u001b[0m\u001b[0;34m]\u001b[0m\u001b[0;34m\u001b[0m\u001b[0m\n\u001b[0m",
      "\u001b[0;32m/usr/lib/python3.7/site-packages/pandas/core/series.py\u001b[0m in \u001b[0;36m__getitem__\u001b[0;34m(self, key)\u001b[0m\n\u001b[1;32m    765\u001b[0m         \u001b[0mkey\u001b[0m \u001b[0;34m=\u001b[0m \u001b[0mcom\u001b[0m\u001b[0;34m.\u001b[0m\u001b[0m_apply_if_callable\u001b[0m\u001b[0;34m(\u001b[0m\u001b[0mkey\u001b[0m\u001b[0;34m,\u001b[0m \u001b[0mself\u001b[0m\u001b[0;34m)\u001b[0m\u001b[0;34m\u001b[0m\u001b[0m\n\u001b[1;32m    766\u001b[0m         \u001b[0;32mtry\u001b[0m\u001b[0;34m:\u001b[0m\u001b[0;34m\u001b[0m\u001b[0m\n\u001b[0;32m--> 767\u001b[0;31m             \u001b[0mresult\u001b[0m \u001b[0;34m=\u001b[0m \u001b[0mself\u001b[0m\u001b[0;34m.\u001b[0m\u001b[0mindex\u001b[0m\u001b[0;34m.\u001b[0m\u001b[0mget_value\u001b[0m\u001b[0;34m(\u001b[0m\u001b[0mself\u001b[0m\u001b[0;34m,\u001b[0m \u001b[0mkey\u001b[0m\u001b[0;34m)\u001b[0m\u001b[0;34m\u001b[0m\u001b[0m\n\u001b[0m\u001b[1;32m    768\u001b[0m \u001b[0;34m\u001b[0m\u001b[0m\n\u001b[1;32m    769\u001b[0m             \u001b[0;32mif\u001b[0m \u001b[0;32mnot\u001b[0m \u001b[0mis_scalar\u001b[0m\u001b[0;34m(\u001b[0m\u001b[0mresult\u001b[0m\u001b[0;34m)\u001b[0m\u001b[0;34m:\u001b[0m\u001b[0;34m\u001b[0m\u001b[0m\n",
      "\u001b[0;32m/usr/lib/python3.7/site-packages/pandas/core/indexes/base.py\u001b[0m in \u001b[0;36mget_value\u001b[0;34m(self, series, key)\u001b[0m\n\u001b[1;32m   3116\u001b[0m         \u001b[0;32mtry\u001b[0m\u001b[0;34m:\u001b[0m\u001b[0;34m\u001b[0m\u001b[0m\n\u001b[1;32m   3117\u001b[0m             return self._engine.get_value(s, k,\n\u001b[0;32m-> 3118\u001b[0;31m                                           tz=getattr(series.dtype, 'tz', None))\n\u001b[0m\u001b[1;32m   3119\u001b[0m         \u001b[0;32mexcept\u001b[0m \u001b[0mKeyError\u001b[0m \u001b[0;32mas\u001b[0m \u001b[0me1\u001b[0m\u001b[0;34m:\u001b[0m\u001b[0;34m\u001b[0m\u001b[0m\n\u001b[1;32m   3120\u001b[0m             \u001b[0;32mif\u001b[0m \u001b[0mlen\u001b[0m\u001b[0;34m(\u001b[0m\u001b[0mself\u001b[0m\u001b[0;34m)\u001b[0m \u001b[0;34m>\u001b[0m \u001b[0;36m0\u001b[0m \u001b[0;32mand\u001b[0m \u001b[0mself\u001b[0m\u001b[0;34m.\u001b[0m\u001b[0minferred_type\u001b[0m \u001b[0;32min\u001b[0m \u001b[0;34m[\u001b[0m\u001b[0;34m'integer'\u001b[0m\u001b[0;34m,\u001b[0m \u001b[0;34m'boolean'\u001b[0m\u001b[0;34m]\u001b[0m\u001b[0;34m:\u001b[0m\u001b[0;34m\u001b[0m\u001b[0m\n",
      "\u001b[0;32mpandas/_libs/index.pyx\u001b[0m in \u001b[0;36mpandas._libs.index.IndexEngine.get_value\u001b[0;34m()\u001b[0m\n",
      "\u001b[0;32mpandas/_libs/index.pyx\u001b[0m in \u001b[0;36mpandas._libs.index.IndexEngine.get_value\u001b[0;34m()\u001b[0m\n",
      "\u001b[0;32mpandas/_libs/index.pyx\u001b[0m in \u001b[0;36mpandas._libs.index.IndexEngine.get_loc\u001b[0;34m()\u001b[0m\n",
      "\u001b[0;31mKeyError\u001b[0m: 'Status'"
     ]
    }
   ],
   "source": [
    "df_tpu = df_tpu[df_tpu['Status'] == 'построен']"
   ]
  },
  {
   "cell_type": "code",
   "execution_count": null,
   "metadata": {},
   "outputs": [],
   "source": [
    "# df_tpu.head()"
   ]
  },
  {
   "cell_type": "code",
   "execution_count": null,
   "metadata": {},
   "outputs": [],
   "source": [
    "df_tpu.sort_values(by=['AdmArea','District'],ascending=[False, False])"
   ]
  },
  {
   "cell_type": "code",
   "execution_count": null,
   "metadata": {},
   "outputs": [],
   "source": [
    "final_tpu = pd.DataFrame()"
   ]
  },
  {
   "cell_type": "code",
   "execution_count": null,
   "metadata": {},
   "outputs": [],
   "source": [
    "final_tpu = df_tpu.sort_values(by=['AdmArea','District'],ascending=[False, False])"
   ]
  },
  {
   "cell_type": "code",
   "execution_count": null,
   "metadata": {},
   "outputs": [],
   "source": [
    "new_columns_metro =[i for i in list(final_tpu.columns) if i != 'CarCapacity' and i !='ID' and i != 'Status' and i !='YearOfComissioning' and i != 'global_id']"
   ]
  },
  {
   "cell_type": "code",
   "execution_count": null,
   "metadata": {},
   "outputs": [],
   "source": [
    "final_tpu[new_columns_metro].head()"
   ]
  },
  {
   "cell_type": "markdown",
   "metadata": {},
   "source": [
    "На этом анализ транспортно-пересадочных узлов этой таблицей окончен"
   ]
  },
  {
   "cell_type": "markdown",
   "metadata": {},
   "source": [
    "# 1.2 Станции московского метрополитена"
   ]
  },
  {
   "cell_type": "code",
   "execution_count": null,
   "metadata": {},
   "outputs": [],
   "source": [
    "import sys\n",
    "import numpy as np\n",
    "import pandas as pd\n",
    "import matplotlib.pyplot as plt\n",
    "import json\n",
    "import csv\n",
    "df_bus = pd.read_json('bus.json')"
   ]
  },
  {
   "cell_type": "code",
   "execution_count": null,
   "metadata": {},
   "outputs": [],
   "source": [
    "# df_bus.head()"
   ]
  },
  {
   "cell_type": "code",
   "execution_count": null,
   "metadata": {},
   "outputs": [],
   "source": [
    "df_bus.info()"
   ]
  },
  {
   "cell_type": "code",
   "execution_count": null,
   "metadata": {},
   "outputs": [],
   "source": [
    "df['Name']=df['Name'].astype('str')"
   ]
  },
  {
   "cell_type": "code",
   "execution_count": null,
   "metadata": {},
   "outputs": [],
   "source": [
    "df_bus['Name'].unique()"
   ]
  },
  {
   "cell_type": "code",
   "execution_count": null,
   "metadata": {
    "scrolled": true
   },
   "outputs": [],
   "source": [
    "df_bus"
   ]
  },
  {
   "cell_type": "code",
   "execution_count": null,
   "metadata": {
    "scrolled": true
   },
   "outputs": [],
   "source": [
    "df_bus.loc[df_bus.Name.str.contains('Метро')]"
   ]
  },
  {
   "cell_type": "code",
   "execution_count": null,
   "metadata": {},
   "outputs": [],
   "source": [
    "df_bus_metro = pd.DataFrame()"
   ]
  },
  {
   "cell_type": "code",
   "execution_count": null,
   "metadata": {},
   "outputs": [],
   "source": [
    "df_bus_metro = df_bus.loc[df_bus.Name.str.contains('Метро')]"
   ]
  },
  {
   "cell_type": "code",
   "execution_count": null,
   "metadata": {},
   "outputs": [],
   "source": [
    "df_bus_metro.head()"
   ]
  },
  {
   "cell_type": "code",
   "execution_count": null,
   "metadata": {},
   "outputs": [],
   "source": [
    "df_bus_metro.sort_values(by='Name',ascending = True)"
   ]
  },
  {
   "cell_type": "code",
   "execution_count": null,
   "metadata": {},
   "outputs": [],
   "source": [
    "new_columns_metro =[i for i in list(df_bus_metro.columns) if i != 'EntryState' and i !='ID' and i != 'Latitude_WGS84' and i !='Longitude_WGS84' and \n",
    "             i !='OperatingOrgName' and i !='Pavilion' and i !='RouteNumbers' and i != 'Street' and i != 'global_id' and i !='Name']"
   ]
  },
  {
   "cell_type": "code",
   "execution_count": null,
   "metadata": {},
   "outputs": [],
   "source": [
    "df_bus_metro[new_columns_metro].head()"
   ]
  },
  {
   "cell_type": "code",
   "execution_count": null,
   "metadata": {},
   "outputs": [],
   "source": [
    "df_bus_metro = df_bus_metro[new_columns_metro].sort_values(by=['AdmArea','District'],ascending = [False,False])"
   ]
  },
  {
   "cell_type": "code",
   "execution_count": null,
   "metadata": {},
   "outputs": [],
   "source": [
    "df_bus_metro"
   ]
  },
  {
   "cell_type": "code",
   "execution_count": null,
   "metadata": {},
   "outputs": [],
   "source": [
    "dff = pd.DataFrame()"
   ]
  },
  {
   "cell_type": "code",
   "execution_count": null,
   "metadata": {},
   "outputs": [],
   "source": []
  },
  {
   "cell_type": "code",
   "execution_count": null,
   "metadata": {},
   "outputs": [],
   "source": [
    "df_bus_metro.drop_duplicates('StationName', keep='first')"
   ]
  },
  {
   "cell_type": "code",
   "execution_count": null,
   "metadata": {},
   "outputs": [],
   "source": [
    "dff = df_bus_metro.drop_duplicates('StationName', keep='first')"
   ]
  },
  {
   "cell_type": "code",
   "execution_count": null,
   "metadata": {},
   "outputs": [],
   "source": [
    "dff = dff.loc[dff.StationName.str.contains('Метро')]"
   ]
  },
  {
   "cell_type": "code",
   "execution_count": null,
   "metadata": {},
   "outputs": [],
   "source": [
    "dff"
   ]
  },
  {
   "cell_type": "code",
   "execution_count": null,
   "metadata": {},
   "outputs": [],
   "source": [
    "metro = pd.read_json('metro.json')"
   ]
  },
  {
   "cell_type": "code",
   "execution_count": null,
   "metadata": {},
   "outputs": [],
   "source": [
    "metro.head()"
   ]
  },
  {
   "cell_type": "code",
   "execution_count": null,
   "metadata": {},
   "outputs": [],
   "source": [
    "new_columns_metropoliten =[i for i in list(metro.columns) if i != 'LittleFunctionalBPAAmount' and i !='Longitude_WGS84'\n",
    "                          and i != 'ModeOnEvenDays' and i != 'ModeOnOddDays' and i != 'Name' and i != 'RepairOfEscalators'\n",
    "                          and i !='global_id' and i !='Line' and i != 'ID' and i != 'FullFeaturedBPAAmount'\n",
    "                          and i != 'Latitude_WGS84' and i != 'BPAAmount']"
   ]
  },
  {
   "cell_type": "code",
   "execution_count": null,
   "metadata": {},
   "outputs": [],
   "source": [
    "metro[new_columns_metropoliten].head()"
   ]
  },
  {
   "cell_type": "code",
   "execution_count": null,
   "metadata": {},
   "outputs": [],
   "source": [
    "metro[new_columns_metropoliten] = metro[new_columns_metropoliten].drop_duplicates('NameOfStation', keep='first')"
   ]
  },
  {
   "cell_type": "code",
   "execution_count": null,
   "metadata": {},
   "outputs": [],
   "source": [
    "metro[new_columns_metropoliten]"
   ]
  },
  {
   "cell_type": "code",
   "execution_count": null,
   "metadata": {},
   "outputs": [],
   "source": [
    "mercy = pd.DataFrame()"
   ]
  },
  {
   "cell_type": "code",
   "execution_count": null,
   "metadata": {},
   "outputs": [],
   "source": [
    "mercy = metro[new_columns_metropoliten]"
   ]
  },
  {
   "cell_type": "code",
   "execution_count": null,
   "metadata": {},
   "outputs": [],
   "source": [
    "mercy.head()"
   ]
  },
  {
   "cell_type": "code",
   "execution_count": null,
   "metadata": {},
   "outputs": [],
   "source": [
    "mercy = mercy[mercy['NameOfStation'] != '']"
   ]
  },
  {
   "cell_type": "code",
   "execution_count": null,
   "metadata": {},
   "outputs": [],
   "source": [
    "mercy.info()"
   ]
  },
  {
   "cell_type": "code",
   "execution_count": null,
   "metadata": {},
   "outputs": [],
   "source": [
    "mercy = metro[new_columns_metropoliten].drop_duplicates('NameOfStation', keep='first')"
   ]
  },
  {
   "cell_type": "code",
   "execution_count": null,
   "metadata": {},
   "outputs": [],
   "source": [
    "mercy.head()"
   ]
  },
  {
   "cell_type": "code",
   "execution_count": null,
   "metadata": {},
   "outputs": [],
   "source": [
    "mercy = mercy[mercy['geoData'] != 'NaN']\n"
   ]
  },
  {
   "cell_type": "code",
   "execution_count": null,
   "metadata": {},
   "outputs": [],
   "source": [
    "mercy"
   ]
  },
  {
   "cell_type": "code",
   "execution_count": null,
   "metadata": {},
   "outputs": [],
   "source": []
  },
  {
   "cell_type": "code",
   "execution_count": null,
   "metadata": {},
   "outputs": [],
   "source": []
  }
 ],
 "metadata": {
  "kernelspec": {
   "display_name": "Python 3",
   "language": "python",
   "name": "python3"
  },
  "language_info": {
   "codemirror_mode": {
    "name": "ipython",
    "version": 3
   },
   "file_extension": ".py",
   "mimetype": "text/x-python",
   "name": "python",
   "nbconvert_exporter": "python",
   "pygments_lexer": "ipython3",
   "version": "3.7.0"
  }
 },
 "nbformat": 4,
 "nbformat_minor": 2
}
